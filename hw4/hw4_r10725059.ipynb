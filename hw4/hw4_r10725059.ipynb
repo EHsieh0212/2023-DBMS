{
 "cells": [
  {
   "cell_type": "code",
   "execution_count": 11,
   "metadata": {},
   "outputs": [],
   "source": [
    "import csv\n",
    "import json\n",
    "import mysql.connector\n",
    "from mysql.connector import Error\n",
    "\n",
    "# please modify hw4_config.json to your own config file\n",
    "with open('hw4_config.json') as f:\n",
    "    config = json.load(f)\n",
    "\n",
    "host = config['host']\n",
    "user = config['user']\n",
    "passwd = config['passwd']\n",
    "dbms_student_path = config['dbms_student_path']\n",
    "new_student_path = config['new_student_path']\n"
   ]
  },
  {
   "attachments": {},
   "cell_type": "markdown",
   "metadata": {},
   "source": [
    "## 1-1: Input data into student table"
   ]
  },
  {
   "cell_type": "code",
   "execution_count": 12,
   "metadata": {},
   "outputs": [
    {
     "name": "stdout",
     "output_type": "stream",
     "text": [
      "is connected\n",
      "successfully inserted data into database\n"
     ]
    }
   ],
   "source": [
    "try:\n",
    "    # 連接 MySQL 資料庫\n",
    "    conn = mysql.connector.connect(\n",
    "        host=host,          \n",
    "        user=user,        \n",
    "        password=passwd)\n",
    "\n",
    "    if conn.is_connected():\n",
    "        print('is connected')\n",
    "        cursor = conn.cursor(buffered=True)\n",
    "        cursor.execute(\"CREATE DATABASE if not exists DB_class;\")\n",
    "        cursor.execute(\"use DB_class;\")\n",
    "        creating_table = '''create table if not exists student(\n",
    "                                身份 char(30) not null,\n",
    "                                系所 char(30) not null,\n",
    "                                年級 int not null,\n",
    "                                學號 char(30) not null primary key,\n",
    "                                姓名 char(30) not null,\n",
    "                                信箱 char(30) not null, \n",
    "                                班別 char(30) not null\n",
    "                        )'''\n",
    "        cursor.execute(creating_table)\n",
    "        with open('DBMS_student_list.csv', encoding=\"utf-8-sig\") as f:\n",
    "            reader = csv.DictReader(f)\n",
    "            for row in reader:\n",
    "                inserting_row = \"insert into DB_class.student values (%s, %s, %s, %s, %s, %s, %s);\"\n",
    "                cursor.execute(inserting_row, tuple(row.values()))\n",
    "                conn.commit()\n",
    "        print(\"successfully inserted data into database\")\n",
    "except Error as e:\n",
    "    print(e)\n"
   ]
  },
  {
   "attachments": {},
   "cell_type": "markdown",
   "metadata": {},
   "source": [
    "## 1-2: Read the information about yourself"
   ]
  },
  {
   "cell_type": "code",
   "execution_count": 13,
   "metadata": {},
   "outputs": [
    {
     "name": "stdout",
     "output_type": "stream",
     "text": [
      "('學生', '資管系', 2, 'R10725059', '謝佳穎 (HSIEH, CHIA-YING)', 'r10725059@ntu.edu.tw', '資料庫系統-從SQL到NoSQL (EE5178)')\n"
     ]
    }
   ],
   "source": [
    "read_myself = \"select * from DB_class.student where 姓名 like '謝佳穎%';\"\n",
    "cursor.execute(read_myself)\n",
    "result = cursor.fetchone()\n",
    "print(result)"
   ]
  },
  {
   "attachments": {},
   "cell_type": "markdown",
   "metadata": {},
   "source": [
    "## 1-3: Update your own value of the \"身份\" column "
   ]
  },
  {
   "cell_type": "code",
   "execution_count": 14,
   "metadata": {},
   "outputs": [
    {
     "name": "stdout",
     "output_type": "stream",
     "text": [
      "('特優生', '資管系', 2, 'R10725059', '謝佳穎 (HSIEH, CHIA-YING)', 'r10725059@ntu.edu.tw', '資料庫系統-從SQL到NoSQL (EE5178)')\n"
     ]
    }
   ],
   "source": [
    "updating_myself = \"update DB_class.student set 身份 = '特優生' where 姓名 like '謝佳穎%';\"\n",
    "cursor.execute(updating_myself)\n",
    "conn.commit()\n",
    "cursor.execute(\"select * from DB_class.student where 姓名 like '謝佳穎%';\")\n",
    "result = cursor.fetchone()\n",
    "print(result)"
   ]
  },
  {
   "attachments": {},
   "cell_type": "markdown",
   "metadata": {},
   "source": [
    "## 1-4: Insert three new students "
   ]
  },
  {
   "cell_type": "code",
   "execution_count": 15,
   "metadata": {},
   "outputs": [
    {
     "name": "stdout",
     "output_type": "stream",
     "text": [
      "('旁聽生', '物理系', 4, 'B07202041', '林禹廷 (LIN, YU-TING)', 'b07202041@ntu.edu.tw', '資料庫系統-從SQL到NoSQL (EE5178)')\n",
      "('學生', '物理系', 4, 'B07202043', '溫進揚 (VOON JING YANG)', 'b07202043@ntu.edu.tw', '資料庫系統-從SQL到NoSQL (EE5178)')\n",
      "('學生', '經濟系', 4, 'B07303086', '李孟學 (lee meng-hsueh)', 'b07303086@ntu.edu.tw', '資料庫系統-從SQL到NoSQL (EE5178)')\n",
      "('學生', '生傳系', 4, 'B07610058', '盧家雯 (LU,CHIA-WEN)', 'b07610058@ntu.edu.tw', '資料庫系統-從SQL到NoSQL (EE5178)')\n",
      "('旁聽生', '經濟系', 4, 'B08303013', '沈汶鋒 (SHEN , WUN-FONG)', 'b08303013@ntu.edu.tw', '資料庫系統-從SQL到NoSQL (EE5178)')\n",
      "('學生', '經濟系', 4, 'B08303047', '黃翔易 (HUANG,XIANG-YI)', 'b08303047@ntu.edu.tw', '資料庫系統-從SQL到NoSQL (EE5178)')\n",
      "('學生', '經濟系', 4, 'B08303098', '張暐翔 (CHANG,WEI-SIANG)', 'b08303098@ntu.edu.tw', '資料庫系統-從SQL到NoSQL (EE5178)')\n",
      "('學生', '心理系', 4, 'B08305037', '周彥成 (CHOU YAN CHENG)', 'b08305037@ntu.edu.tw', '資料庫系統-從SQL到NoSQL (EE5178)')\n",
      "('學生', '醫工系', 4, 'B08508002', '郭思言 (KUO,SZU-YEN)', 'b08508002@ntu.edu.tw', '資料庫系統-從SQL到NoSQL (EE5178)')\n",
      "('學生', '生物機電系', 4, 'B08611048', '賴鴻昇 (LAI,HONG-SHENG)', 'b08611048@ntu.edu.tw', '資料庫系統-從SQL到NoSQL (EE5178)')\n",
      "('學生', '資工系', 4, 'B08902132', '陳彥潣 (CHEN, YEN-MIN)', 'b08902132@ntu.edu.tw', '資料庫系統-從SQL到NoSQL (EE5178)')\n",
      "('學生', '心理系', 4, 'B08B01073', '魏逸豪 (WEI I HAO)', 'b08b01073@ntu.edu.tw', '資料庫系統-從SQL到NoSQL (EE5178)')\n",
      "('學生', '資管系', 3, 'B09705059', '羅采蓁 (LO TSAI CHEN)', 'b09705059@ntu.edu.tw', '資料庫系統-從SQL到NoSQL (EE5178)')\n",
      "('旁聽生', '公衛系', 3, 'B09801002', '吳俞萱 (Wu-YU-XUAN)', 'b09801002@ntu.edu.tw', '資料庫系統-從SQL到NoSQL (EE5178)')\n",
      "('旁聽生', '公衛系', 3, 'B09801021', '黃映潔 (HUANG,YING-JIE)', 'b09801021@ntu.edu.tw', '資料庫系統-從SQL到NoSQL (EE5178)')\n",
      "('學生', '電機系', 3, 'B09901077', '林宗易 (LIN, THOMAS AUGUSTIN)', 'b09901077@ntu.edu.tw', '資料庫系統-從SQL到NoSQL (EE5178)')\n",
      "('學生', '電機系', 3, 'B09901078', '葉軒易 (YEH HSUAN-i)', 'b09901078@ntu.edu.tw', '資料庫系統-從SQL到NoSQL (EE5178)')\n",
      "('學生', '資工系', 3, 'B09901133', '林天行 (KEVIN TIEN HSING LIN)', 'b09901133@ntu.edu.tw', '資料庫系統-從SQL到NoSQL (EE5178)')\n",
      "('旁聽生', '電機系', 3, 'B09901192', '林沛翰 (LIN,PEI-HAN)', 'b09901192@ntu.edu.tw', '資料庫系統-從SQL到NoSQL (EE5178)')\n",
      "('學生', '資工系', 3, 'B09902021', '黃科維 (HUANG,KO-WEI)', 'b09902021@ntu.edu.tw', '資料庫系統-從SQL到NoSQL (EE5178)')\n",
      "('學生', '資工系', 3, 'B09902023', '蔡孟錡 (Tsai Meng-Chi)', 'b09902023@ntu.edu.tw', '資料庫系統-從SQL到NoSQL (EE5178)')\n",
      "('旁聽生', '資工系', 3, 'B09902032', '彭昱齊 (PENG YUCHI)', 'b09902032@ntu.edu.tw', '資料庫系統-從SQL到NoSQL (EE5178)')\n",
      "('學生', '資工系', 3, 'B09902111', '李哲言 (LI,ZHE-YAN)', 'b09902111@ntu.edu.tw', '資料庫系統-從SQL到NoSQL (EE5178)')\n",
      "('學生', '資工系', 3, 'B09902125', '陳剛頡 (CHEN,KANG-CHIEH)', 'b09902125@ntu.edu.tw', '資料庫系統-從SQL到NoSQL (EE5178)')\n",
      "('學生', '物理系', 3, 'B09987653', '小黃', 'b09987653@ntu.edu.tw', '資料庫系統-從SQL到NoSQL (EE5178)')\n",
      "('學生', '資工系', 2, 'B10902065', '黃品翰 (HUANG,PIN-HAN)', 'b10902065@ntu.edu.tw', '資料庫系統-從SQL到NoSQL (EE5178)')\n",
      "('學生', '資工系', 2, 'B10902068', '黃千睿 (HUANG CHIEN-JUI)', 'b10902068@ntu.edu.tw', '資料庫系統-從SQL到NoSQL (EE5178)')\n",
      "('學生', '電機系', 6, 'D06921008', '黃尹姿 (HUANG YIN TZU)', 'd06921008@ntu.edu.tw', '資料庫系統-從SQL到NoSQL (EE5178)')\n",
      "('旁聽生', '機械系', 4, 'D08522012', '徐鋐權 (HSU, HUNG-CHUAN)', 'd08522012@ntu.edu.tw', '資料庫系統-從SQL到NoSQL (EE5178)')\n",
      "('學生', '電機系', 1, 'D11921B15', '程煒倫 (WEI-LUN CHENG)', 'd11921b15@ntu.edu.tw', '資料庫系統-從SQL到NoSQL (EE5178)')\n",
      "('學生', '資料科學博士', 1, 'D11948002', '巫哲嘉 (WU, JHE-JIA)', 'd11948002@ntu.edu.tw', '資料庫系統-從SQL到NoSQL (EE5178)')\n",
      "('學生', '電機系', 3, 'F08921A05', '陳憶賢 (YI-HSIEN CHEN)', 'f08921a05@ntu.edu.tw', '資料庫系統-從SQL到NoSQL (EE5178)')\n",
      "('學生', '資工系', 1, 'P11922003', '梁乃勻 (LIANG, NAI-YUN)', 'p11922003@ntu.edu.tw', '資料庫系統-從SQL到NoSQL (EE5178)')\n",
      "('學生', '基蛋所', 3, 'R08424026', '莊惠文 (CHUANG HUI WEN)', 'r08424026@ntu.edu.tw', '資料庫系統-從SQL到NoSQL (EE5178)')\n",
      "('學生', '工科海洋系', 3, 'R09525126', '周宥辰 (CHOU, YU-CHEN)', 'r09525126@ntu.edu.tw', '資料庫系統-從SQL到NoSQL (EE5178)')\n",
      "('學生', '系統生物學程', 3, 'R09B48004', '蕭如秀 (RU-XIU HSIAO)', 'r09b48004@ntu.edu.tw', '資料庫系統-從SQL到NoSQL (EE5178)')\n",
      "('旁聽生', '電機所', 2, 'R10123456', '小紅', 'r10123456@ntu.edu.tw', '資料庫系統-從SQL到NoSQL (EE5178)')\n",
      "('學生', '心理系一般組', 2, 'R10227105', '王雅茵 (WANG, YA-YIN)', 'r10227105@ntu.edu.tw', '資料庫系統-從SQL到NoSQL (EE5178)')\n",
      "('學生', '基蛋所', 2, 'R10455001', '陳品瑄 (PIN-XUAN CHEN)', 'r10455001@ntu.edu.tw', '資料庫系統-從SQL到NoSQL (EE5178)')\n",
      "('學生', '土木系水利組', 2, 'R10521327', '莊浥岫 (CHUANG I-HSIU)', 'r10521327@ntu.edu.tw', '資料庫系統-從SQL到NoSQL (EE5178)')\n",
      "('旁聽生', '農經系', 2, 'R10627013', '葉昱麟 (YEH, YU-LIN)', 'r10627013@ntu.edu.tw', '資料庫系統-從SQL到NoSQL (EE5178)')\n",
      "('學生', '生機系', 2, 'R10631026', '張名翔 (CHANG, MING-SIANG)', 'r10631026@ntu.edu.tw', '資料庫系統-從SQL到NoSQL (EE5178)')\n",
      "('學生', '生機系', 2, 'R10631039', '萬庭佑 (TING-YU WAN)', 'r10631039@ntu.edu.tw', '資料庫系統-從SQL到NoSQL (EE5178)')\n",
      "('學生', '國企系', 2, 'R10724039', '黃  昕 (HSIN, HUANG)', 'r10724039@ntu.edu.tw', '資料庫系統-從SQL到NoSQL (EE5178)')\n",
      "('學生', '資管系', 2, 'R10725020', '劉正宇 (LIOU, CHENG-YU)', 'r10725020@ntu.edu.tw', '資料庫系統-從SQL到NoSQL (EE5178)')\n",
      "('旁聽生', '資管系', 2, 'R10725043', '龔雪燕 (KUNG, HSUEH-YEN)', 'r10725043@ntu.edu.tw', '資料庫系統-從SQL到NoSQL (EE5178)')\n",
      "('特優生', '資管系', 2, 'R10725059', '謝佳穎 (HSIEH, CHIA-YING)', 'r10725059@ntu.edu.tw', '資料庫系統-從SQL到NoSQL (EE5178)')\n",
      "('學生', '電機系', 2, 'R10921050', '王韋翰 (WEI-HAN WANG)', 'r10921050@ntu.edu.tw', '資料庫系統-從SQL到NoSQL (EE5178)')\n",
      "('學生', '電機系', 2, 'R10921069', '沈郁鈞 (SHEN, YU-CHUN)', 'r10921069@ntu.edu.tw', '資料庫系統-從SQL到NoSQL (EE5178)')\n",
      "('旁聽生', '電機資安碩班', 2, 'R10921A26', '陳億賢 (YI-XIAN CHEN)', 'r10921a26@ntu.edu.tw', '資料庫系統-從SQL到NoSQL (EE5178)')\n",
      "('學生', '資工系', 2, 'R10922111', '黃冠瑋 (HUANG, KUAN-WEI)', 'r10922111@ntu.edu.tw', '資料庫系統-從SQL到NoSQL (EE5178)')\n",
      "('旁聽生', '資工系', 2, 'R10922173', '許紅媛 (HUNG-YUAN HSU)', 'r10922173@ntu.edu.tw', '資料庫系統-從SQL到NoSQL (EE5178)')\n",
      "('旁聽生', '資工系', 2, 'R10922178', '張凱庭 (CHANG, KAI-TING)', 'r10922178@ntu.edu.tw', '資料庫系統-從SQL到NoSQL (EE5178)')\n",
      "('學生', '光電所', 2, 'R10941036', '劉智皓 (CHIH-HAO LIU)', 'r10941036@ntu.edu.tw', '資料庫系統-從SQL到NoSQL (EE5178)')\n",
      "('學生', '電信所', 2, 'R10942129', '呂冠輝 (LYU, GUAN-HUEI)', 'r10942129@ntu.edu.tw', '資料庫系統-從SQL到NoSQL (EE5178)')\n",
      "('學生', '電信所', 2, 'R10942155', '洪晨翔 (HUNG, CHEN-HSIANG)', 'r10942155@ntu.edu.tw', '資料庫系統-從SQL到NoSQL (EE5178)')\n",
      "('學生', '電信所', 2, 'R10942156', '王睿謙 (WANG, RUEI-CIAN)', 'r10942156@ntu.edu.tw', '資料庫系統-從SQL到NoSQL (EE5178)')\n",
      "('學生', '生醫電資所', 1, 'R10945002', '林柏詠 (LIN, BO-YONG)', 'r10945002@ntu.edu.tw', '資料庫系統-從SQL到NoSQL (EE5178)')\n",
      "('旁聽生', '資料科學學程', 2, 'R10946018', '鄭柏譽 (CHENG, BO-YU)', 'r10946018@ntu.edu.tw', '資料庫系統-從SQL到NoSQL (EE5178)')\n",
      "('學生', '資料科學學程', 2, 'R10946030', '馬培峰 (PEI-FENG MA)', 'r10946030@ntu.edu.tw', '資料庫系統-從SQL到NoSQL (EE5178)')\n",
      "('旁聽生', '統計碩士學程', 2, 'R10H41004', '趙珮君 (PEI-CUN CHAO)', 'r10h41004@ntu.edu.tw', '資料庫系統-從SQL到NoSQL (EE5178)')\n",
      "('學生', '統計碩士學程', 2, 'R10H41016', '翁  俊 (IONG CHON)', 'r10h41016@ntu.edu.tw', '資料庫系統-從SQL到NoSQL (EE5178)')\n",
      "('觀察者', '電信所', 1, 'R11123001', '小綠', 'r11123001@ntu.edu.tw', '資料庫系統-從SQL到NoSQL (EE5178)')\n",
      "('學生', '應數所', 1, 'R11246002', '王禹文 (YU-WEN WANG)', 'r11246002@ntu.edu.tw', '資料庫系統-從SQL到NoSQL (EE5178)')\n",
      "('學生', '土木系水利組', 1, 'R11521305', '黃詣翔 (HUANG, YI-HSIANG)', 'r11521305@ntu.edu.tw', '資料庫系統-從SQL到NoSQL (EE5178)')\n",
      "('學生', '土木系水利組', 1, 'R11521323', '楊政霖 (YANG, CHENG-LIN)', 'r11521323@ntu.edu.tw', '資料庫系統-從SQL到NoSQL (EE5178)')\n",
      "('學生', '土木系電輔組', 1, 'R11521603', '陳冠錞 (KUAN-CHUN CHEN)', 'r11521603@ntu.edu.tw', '資料庫系統-從SQL到NoSQL (EE5178)')\n",
      "('學生', '土木系電輔組', 1, 'R11521613', '林沛忻 (PEI-HSIN LIN)', 'r11521613@ntu.edu.tw', '資料庫系統-從SQL到NoSQL (EE5178)')\n",
      "('學生', '土木系電輔組', 1, 'R11521616', '何宏發 (HO WANG FAT)', 'r11521616@ntu.edu.tw', '資料庫系統-從SQL到NoSQL (EE5178)')\n",
      "('旁聽生', '機械系系控組', 1, 'R11522812', '陳俞臻 (CHEN, YU-CHEN)', 'r11522812@ntu.edu.tw', '資料庫系統-從SQL到NoSQL (EE5178)')\n",
      "('學生', '生機系', 1, 'R11631028', '劉易霖 (LIU, YIH-LIN)', 'r11631028@ntu.edu.tw', '資料庫系統-從SQL到NoSQL (EE5178)')\n",
      "('學生', '資管系', 1, 'R11725044', '鄧鈺儒 (TENG, YU-JU)', 'r11725044@ntu.edu.tw', '資料庫系統-從SQL到NoSQL (EE5178)')\n",
      "('學生', '資管系', 1, 'R11725047', '林品歷 (LIN, PIN-LI)', 'r11725047@ntu.edu.tw', '資料庫系統-從SQL到NoSQL (EE5178)')\n",
      "('旁聽生', '資管系', 1, 'R11725052', '吳紅沛 (HUNG-PEI WU)', 'r11725052@ntu.edu.tw', '資料庫系統-從SQL到NoSQL (EE5178)')\n",
      "('學生', '資管系', 1, 'R11725058', '吳品萱 (\\x08PIN-HSUAN WU)', 'r11725058@ntu.edu.tw', '資料庫系統-從SQL到NoSQL (EE5178)')\n",
      "('學生', '電機系', 1, 'R11921008', '羅恩至 (LO, EN-JHIH)', 'r11921008@ntu.edu.tw', '資料庫系統-從SQL到NoSQL (EE5178)')\n",
      "('學生', '電機系', 1, 'R11921009', '陳烱濤 (CHEN, CHIUNG-TAO)', 'r11921009@ntu.edu.tw', '資料庫系統-從SQL到NoSQL (EE5178)')\n",
      "('學生', '電機系', 1, 'R11921013', '王誠鴻 (WANG,CHENG-HONG)', 'r11921013@ntu.edu.tw', '資料庫系統-從SQL到NoSQL (EE5178)')\n",
      "('學生', '電機系', 1, 'R11921014', '郭國榮 (KUO, GUO-RONG)', 'r11921014@ntu.edu.tw', '資料庫系統-從SQL到NoSQL (EE5178)')\n",
      "('學生', '電機系', 1, 'R11921017', '施品竹 (SHIH, PIN-CHU)', 'r11921017@ntu.edu.tw', '資料庫系統-從SQL到NoSQL (EE5178)')\n",
      "('學生', '電機系', 1, 'R11921018', '徐華佑 (SHYU, HUA-YU)', 'r11921018@ntu.edu.tw', '資料庫系統-從SQL到NoSQL (EE5178)')\n",
      "('學生', '電機系', 1, 'R11921019', '彭盛維 (PENG, SHENG-WEI)', 'r11921019@ntu.edu.tw', '資料庫系統-從SQL到NoSQL (EE5178)')\n",
      "('旁聽生', '電機系', 1, 'R11921038', '江讀晉 (CHIANG, TU-CHIN)', 'r11921038@ntu.edu.tw', '資料庫系統-從SQL到NoSQL (EE5178)')\n",
      "('學生', '電機系', 1, 'R11921048', '傅楷容 (FU, KAI-JUNG)', 'r11921048@ntu.edu.tw', '資料庫系統-從SQL到NoSQL (EE5178)')\n",
      "('學生', '電機系', 1, 'R11921072', '謝子涔 (HSIEH, TZU-TSEN)', 'r11921072@ntu.edu.tw', '資料庫系統-從SQL到NoSQL (EE5178)')\n",
      "('學生', '電機系', 1, 'R11921074', '劉陶銘 (LIU,TAO-MING)', 'r11921074@ntu.edu.tw', '資料庫系統-從SQL到NoSQL (EE5178)')\n",
      "('學生', '電機系', 1, 'R11921078', '李鎮宇 (LI, CHEN-YU)', 'r11921078@ntu.edu.tw', '資料庫系統-從SQL到NoSQL (EE5178)')\n",
      "('學生', '電機系', 1, 'R11921093', '林竑逸 (LIN,HUNG-I)', 'r11921093@ntu.edu.tw', '資料庫系統-從SQL到NoSQL (EE5178)')\n",
      "('學生', '電機系', 1, 'R11921094', '劉宗翰 (TSUNG-HAN LIU)', 'r11921094@ntu.edu.tw', '資料庫系統-從SQL到NoSQL (EE5178)')\n",
      "('學生', '資工系', 1, 'R11922134', '許容綮 (HSU,JUNG-CHING)', 'r11922134@ntu.edu.tw', '資料庫系統-從SQL到NoSQL (EE5178)')\n",
      "('學生', '電信所', 1, 'R11942083', '伏宇寬 (FU, YU-KUAN)', 'r11942083@ntu.edu.tw', '資料庫系統-從SQL到NoSQL (EE5178)')\n",
      "('學生', '電信所', 1, 'R11942104', '魏廷宇 (WEI,TING-YU)', 'r11942104@ntu.edu.tw', '資料庫系統-從SQL到NoSQL (EE5178)')\n",
      "('學生', '電信所', 1, 'R11942195', '蔡莉亞 (TSAI, LI-YA)', 'r11942195@ntu.edu.tw', '資料庫系統-從SQL到NoSQL (EE5178)')\n",
      "('學生', '網媒所', 1, 'R11944022', '吳雲行 (WU, YUN-SHING)', 'r11944022@ntu.edu.tw', '資料庫系統-從SQL到NoSQL (EE5178)')\n",
      "('學生', '生醫電資所', 1, 'R11945005', '郭庭沂 (KUO,TING-YI)', 'r11945005@ntu.edu.tw', '資料庫系統-從SQL到NoSQL (EE5178)')\n",
      "('學生', '生醫電資所', 1, 'R11945018', '曾于瑄 (YU-HSUAN TSENG)', 'r11945018@ntu.edu.tw', '資料庫系統-從SQL到NoSQL (EE5178)')\n",
      "('學生', '生醫電資所', 1, 'R11945044', '張瑜倢 (ZHANG, YU-JIE)', 'r11945044@ntu.edu.tw', '資料庫系統-從SQL到NoSQL (EE5178)')\n",
      "('學生', '資料科學學程', 1, 'R11946012', '王奕方 (WANG, YI-FANG)', 'r11946012@ntu.edu.tw', '資料庫系統-從SQL到NoSQL (EE5178)')\n",
      "('學生', '統計碩士學程', 1, 'R11H41001', '林少穎 (LIN, SHAO-YING)', 'r11h41001@ntu.edu.tw', '資料庫系統-從SQL到NoSQL (EE5178)')\n",
      "('旁聽生', '統計碩士學程', 1, 'R11H41003', '劉  薇 (WEI LIU)', 'r11h41003@ntu.edu.tw', '資料庫系統-從SQL到NoSQL (EE5178)')\n",
      "('學生', '電機系', 1, 'T11901205', '陳俊羲 (CHUN HEI CHAN)', 't11901205@ntu.edu.tw', '資料庫系統-從SQL到NoSQL (EE5178)')\n"
     ]
    }
   ],
   "source": [
    "with open('new_student_list.csv', encoding=\"utf-8-sig\") as f:\n",
    "        reader = csv.DictReader(f)\n",
    "        for row in reader:\n",
    "                inserting_row = \"insert into DB_class.student values (%s, %s, %s, %s, %s, %s, %s);\"\n",
    "                cursor.execute(inserting_row, tuple(row.values()))\n",
    "                conn.commit()\n",
    "\n",
    "cursor.execute('select * from DB_class.student')\n",
    "result = cursor.fetchall()\n",
    "for i in result:\n",
    "    print(i)\n",
    "\n",
    "cursor.close()"
   ]
  },
  {
   "attachments": {},
   "cell_type": "markdown",
   "metadata": {},
   "source": [
    "## 1-5: Prepared select statement (read back the information of any student given his/her ID)"
   ]
  },
  {
   "cell_type": "code",
   "execution_count": 16,
   "metadata": {},
   "outputs": [
    {
     "name": "stdout",
     "output_type": "stream",
     "text": [
      "('旁聽生', '電機所', 2, 'R10123456', '小紅', 'r10123456@ntu.edu.tw', '資料庫系統-從SQL到NoSQL (EE5178)')\n",
      "('學生', '物理系', 3, 'B09987653', '小黃', 'b09987653@ntu.edu.tw', '資料庫系統-從SQL到NoSQL (EE5178)')\n",
      "('觀察者', '電信所', 1, 'R11123001', '小綠', 'r11123001@ntu.edu.tw', '資料庫系統-從SQL到NoSQL (EE5178)')\n"
     ]
    }
   ],
   "source": [
    "cursor = conn.cursor(buffered=True, prepared=True)\n",
    "\n",
    "selected_ids = ['R10123456', 'B09987653', 'R11123001']\n",
    "\n",
    "for i in selected_ids:\n",
    "    checking_info = \"select * from DB_class.student where 學號 = %s\"\n",
    "    cursor.execute(checking_info, [i])\n",
    "    result = cursor.fetchone()\n",
    "    print(result)\n",
    "    "
   ]
  },
  {
   "attachments": {},
   "cell_type": "markdown",
   "metadata": {},
   "source": [
    "## 1-6: Group information"
   ]
  },
  {
   "cell_type": "code",
   "execution_count": 17,
   "metadata": {},
   "outputs": [
    {
     "name": "stdout",
     "output_type": "stream",
     "text": [
      "('身份', 'char(30)', 'NO', '', None, '')\n",
      "('系所', 'char(30)', 'NO', '', None, '')\n",
      "('年級', 'int', 'NO', '', None, '')\n",
      "('學號', 'char(30)', 'NO', 'PRI', None, '')\n",
      "('姓名', 'char(30)', 'NO', '', None, '')\n",
      "('信箱', 'char(30)', 'NO', '', None, '')\n",
      "('班別', 'char(30)', 'NO', '', None, '')\n",
      "('final_group', 'int', 'YES', '', None, '')\n",
      "('final_captain', 'char(20)', 'YES', '', None, '')\n"
     ]
    }
   ],
   "source": [
    "altering_table1 = \"alter table student add final_group int\"\n",
    "altering_table2 = \"alter table student add final_captain char(20)\"\n",
    "cursor.execute(altering_table1)\n",
    "conn.commit()\n",
    "cursor.execute(altering_table2)\n",
    "conn.commit()\n",
    "\n",
    "cursor.execute(\"describe `student`;\")\n",
    "result = cursor.fetchall()\n",
    "for i in result:\n",
    "    print(i)"
   ]
  },
  {
   "cell_type": "code",
   "execution_count": 18,
   "metadata": {},
   "outputs": [
    {
     "name": "stdout",
     "output_type": "stream",
     "text": [
      "successfully updated group member info.\n"
     ]
    }
   ],
   "source": [
    "cursor.execute(\"select count(*) from DB_class.student;\")\n",
    "total_row_count = cursor.fetchall()\n",
    "\n",
    "try:\n",
    "    for i in total_row_count:\n",
    "        updating_group = '''update DB_class.student \n",
    "                        set final_group = case when 學號 in ('R10725059', 'R11725058', 'R11725047', 'R11725044') then 12 else 0 end'''\n",
    "        cursor.execute(updating_group)\n",
    "        updating_captain = '''update DB_class.student \n",
    "                        set final_captain = case when 學號 in ('R11725044') then \"Y\" else \"N\" end'''\n",
    "        cursor.execute(updating_captain)\n",
    "        conn.commit()\n",
    "\n",
    "    print(\"successfully updated group member info.\")\n",
    "\n",
    "except Error as e:\n",
    "    print(e)"
   ]
  },
  {
   "cell_type": "code",
   "execution_count": 19,
   "metadata": {},
   "outputs": [
    {
     "name": "stdout",
     "output_type": "stream",
     "text": [
      "('特優生', '資管系', 2, 'R10725059', '謝佳穎 (HSIEH, CHIA-YING)', 'r10725059@ntu.edu.tw', '資料庫系統-從SQL到NoSQL (EE5178)', 12, 'N')\n",
      "('學生', '資管系', 1, 'R11725044', '鄧鈺儒 (TENG, YU-JU)', 'r11725044@ntu.edu.tw', '資料庫系統-從SQL到NoSQL (EE5178)', 12, 'Y')\n",
      "('學生', '資管系', 1, 'R11725047', '林品歷 (LIN, PIN-LI)', 'r11725047@ntu.edu.tw', '資料庫系統-從SQL到NoSQL (EE5178)', 12, 'N')\n",
      "('學生', '資管系', 1, 'R11725058', '吳品萱 (\\x08PIN-HSUAN WU)', 'r11725058@ntu.edu.tw', '資料庫系統-從SQL到NoSQL (EE5178)', 12, 'N')\n"
     ]
    }
   ],
   "source": [
    "cursor.execute(\"select * from student where final_group = 12\")\n",
    "result = cursor.fetchall()\n",
    "for i in result:\n",
    "    print(i)"
   ]
  },
  {
   "cell_type": "code",
   "execution_count": 20,
   "metadata": {},
   "outputs": [],
   "source": [
    "cursor.close()\n",
    "conn.close()"
   ]
  }
 ],
 "metadata": {
  "kernelspec": {
   "display_name": "Python 3.10.11 64-bit",
   "language": "python",
   "name": "python3"
  },
  "language_info": {
   "codemirror_mode": {
    "name": "ipython",
    "version": 3
   },
   "file_extension": ".py",
   "mimetype": "text/x-python",
   "name": "python",
   "nbconvert_exporter": "python",
   "pygments_lexer": "ipython3",
   "version": "3.10.11"
  },
  "orig_nbformat": 4,
  "vscode": {
   "interpreter": {
    "hash": "bd385fe162c5ca0c84973b7dd5c518456272446b2b64e67c2a69f949ca7a1754"
   }
  }
 },
 "nbformat": 4,
 "nbformat_minor": 2
}
